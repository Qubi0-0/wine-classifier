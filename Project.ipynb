{
 "cells": [
  {
   "cell_type": "markdown",
   "metadata": {},
   "source": [
    "# Machine Learning Project\n",
    "\n",
    "1. The main goal of project is to solve wine classification problem using machine learning algorithms.\n",
    "We will try to predict wine quality based on its features. For that we will use supervised learning algorithms: \n",
    "- Decision Trees\n",
    "- Multilayer Perceptron\n",
    "- K-Nearest Neighbors\n",
    "\n",
    "For this purpose, we will use the [Wine Quality Data Set](https://archive.ics.uci.edu/ml/datasets/wine+quality) from UCI Machine Learning Repository. The dataset consists of 4898 instances and 12 attributes. The target variable is quality of wine. The quality is a score between 0 and 10. The higher score means better quality. The dataset contains 11 features and 1 target variable. The features are:\n",
    "\n",
    "* fixed acidity\n",
    "* volatile acidity\n",
    "* citric acid\n",
    "* residual sugar\n",
    "* chlorides\n",
    "* free sulfur dioxide\n",
    "* total sulfur dioxide\n",
    "* density\n",
    "* pH\n",
    "* sulphates\n",
    "* alcohol\n",
    "\n",
    "2. The project is divided into 3 parts:\n",
    "* Data preprocessing\n",
    "* Classification\n",
    "* Evaluation\n",
    "\n",
    "3. The project is written in Python 3.11.5. The following libraries are used:\n",
    "* numpy\n",
    "* pandas\n",
    "* matplotlib\n",
    "* seaborn\n",
    "* sklearn\n",
    "* copy\n",
    "* os \n",
    "* sklearn\n",
    "    \n",
    "All libraries can be installed using pip. There is a requirements.txt file in the project folder. To install all libraries, run the following command in the project folder: `pip install -r requirements.txt`\n"
   ]
  },
  {
   "cell_type": "code",
   "execution_count": null,
   "metadata": {},
   "outputs": [],
   "source": []
  }
 ],
 "metadata": {
  "kernelspec": {
   "display_name": "data",
   "language": "python",
   "name": "python3"
  },
  "language_info": {
   "name": "python",
   "version": "3.11.5"
  }
 },
 "nbformat": 4,
 "nbformat_minor": 2
}
