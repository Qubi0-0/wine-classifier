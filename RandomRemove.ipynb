{
 "cells": [
  {
   "cell_type": "code",
   "execution_count": 34,
   "metadata": {},
   "outputs": [
    {
     "name": "stdout",
     "output_type": "stream",
     "text": [
      "shape of dataset: (1599, 12)\n",
      "Null values found in dataset\n",
      "shape of dataset: (1599, 12)\n",
      "Null values found in dataset\n",
      "shape of dataset: (1599, 12)\n",
      "Null values found in dataset\n",
      "shape of dataset: (4898, 12)\n",
      "Null values found in dataset\n",
      "shape of dataset: (4898, 12)\n",
      "Null values found in dataset\n",
      "shape of dataset: (4898, 12)\n",
      "Null values found in dataset\n"
     ]
    }
   ],
   "source": [
    "import pandas as pd\n",
    "import numpy as np\n",
    "\n",
    "\n",
    "data_red = pd.read_csv('data/winequality-red.csv', delimiter=';')\n",
    "data_white = pd.read_csv('data/winequality-white.csv', delimiter=';')\n",
    "\n",
    "def create_sampled_datasets(dataset):\n",
    "\n",
    "    dataset_sampled_10 = dataset.copy()\n",
    "    dataset_sampled_20 = dataset.copy()\n",
    "    dataset_sampled_30 = dataset.copy()\n",
    "\n",
    "    sampled_datasets = [dataset_sampled_10, dataset_sampled_20, dataset_sampled_30]\n",
    "\n",
    "    for sampled_dataset, fraction in [(dataset_sampled_10, 0.1), (dataset_sampled_20, 0.2), (dataset_sampled_30, 0.3)]:\n",
    "        for col in sampled_dataset.columns:\n",
    "            mask = np.random.rand(sampled_dataset.shape[0]) <= fraction\n",
    "            sampled_dataset.loc[mask, col] = np.nan\n",
    "\n",
    "        print(f\"shape of dataset: {sampled_dataset.shape}\")\n",
    "        if sampled_dataset.isnull().sum().sum() > 0:\n",
    "            print(\"Null values found in dataset\")\n",
    "        else:\n",
    "            print(\"No null values found in dataset\")\n",
    "\n",
    "    return sampled_datasets\n",
    "\n",
    "sampled_datasets_red = create_sampled_datasets(data_red)\n",
    "sampled_datasets_white = create_sampled_datasets(data_white)\n",
    "\n",
    "sampled_datasets = [sampled_datasets_red, sampled_datasets_white]"
   ]
  },
  {
   "cell_type": "markdown",
   "metadata": {},
   "source": [
    "For easier operations on datasets, they were converted to pandas dataframes. Then all of them were saved to a list called `datasets`. The first elements of the list are red samples, and the rest are the datasets are white samples. It will make it easier to iterate over them. Then the code puts Null values to random places to make it a missing value. Now we can try different methods to handle missing values.\n",
    "\n",
    "# Handling Missing Values\n",
    "\n",
    "There are many ways to handle missing values in a dataset. In this notebook, I will use the simplest one: removing the rows with missing values. I will use the `dropna()` method of pandas dataframes to remove the rows with missing values. I will use the `inplace=True` parameter to make the changes permanent."
   ]
  },
  {
   "cell_type": "code",
   "execution_count": 37,
   "metadata": {},
   "outputs": [
    {
     "name": "stdout",
     "output_type": "stream",
     "text": [
      "shape of dataset: (463, 12)\n",
      "reduced shape of dataset: (463, 12) \n",
      "\n",
      "shape of dataset: (114, 12)\n",
      "reduced shape of dataset: (114, 12) \n",
      "\n",
      "shape of dataset: (19, 12)\n",
      "reduced shape of dataset: (19, 12) \n",
      "\n",
      "shape of dataset: (1422, 12)\n",
      "reduced shape of dataset: (1422, 12) \n",
      "\n",
      "shape of dataset: (352, 12)\n",
      "reduced shape of dataset: (352, 12) \n",
      "\n",
      "shape of dataset: (57, 12)\n",
      "reduced shape of dataset: (57, 12) \n",
      "\n"
     ]
    }
   ],
   "source": [
    "for datasets in sampled_datasets:\n",
    "    for dataset in datasets:\n",
    "        print(f\"shape of dataset: {dataset.shape}\")\n",
    "        dataset.dropna(inplace=True)\n",
    "        print(f\"reduced shape of dataset: {dataset.shape} \\n\")"
   ]
  }
 ],
 "metadata": {
  "kernelspec": {
   "display_name": "data",
   "language": "python",
   "name": "python3"
  },
  "language_info": {
   "codemirror_mode": {
    "name": "ipython",
    "version": 3
   },
   "file_extension": ".py",
   "mimetype": "text/x-python",
   "name": "python",
   "nbconvert_exporter": "python",
   "pygments_lexer": "ipython3",
   "version": "3.11.5"
  }
 },
 "nbformat": 4,
 "nbformat_minor": 2
}
